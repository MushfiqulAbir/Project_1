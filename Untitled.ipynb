{
 "cells": [
  {
   "cell_type": "code",
   "execution_count": null,
   "id": "31768c4a",
   "metadata": {},
   "outputs": [],
   "source": []
  },
  {
   "cell_type": "code",
   "execution_count": 1,
   "id": "e0fe385d",
   "metadata": {},
   "outputs": [],
   "source": [
    "import pandas as pd\n",
    "\n",
    "airlineInfo = pd.read_csv(\"info.csv\")\n",
    "\n"
   ]
  },
  {
   "cell_type": "code",
   "execution_count": 2,
   "id": "253e01a1",
   "metadata": {},
   "outputs": [
    {
     "data": {
      "text/html": [
       "<div>\n",
       "<style scoped>\n",
       "    .dataframe tbody tr th:only-of-type {\n",
       "        vertical-align: middle;\n",
       "    }\n",
       "\n",
       "    .dataframe tbody tr th {\n",
       "        vertical-align: top;\n",
       "    }\n",
       "\n",
       "    .dataframe thead th {\n",
       "        text-align: right;\n",
       "    }\n",
       "</style>\n",
       "<table border=\"1\" class=\"dataframe\">\n",
       "  <thead>\n",
       "    <tr style=\"text-align: right;\">\n",
       "      <th></th>\n",
       "      <th>Airlines</th>\n",
       "      <th>arr_time</th>\n",
       "      <th>arr_delay</th>\n",
       "      <th>dest</th>\n",
       "    </tr>\n",
       "  </thead>\n",
       "  <tbody>\n",
       "    <tr>\n",
       "      <th>0</th>\n",
       "      <td>ALASKA</td>\n",
       "      <td>497</td>\n",
       "      <td>62</td>\n",
       "      <td>Los Angeles</td>\n",
       "    </tr>\n",
       "    <tr>\n",
       "      <th>1</th>\n",
       "      <td>ALASKA</td>\n",
       "      <td>221</td>\n",
       "      <td>12</td>\n",
       "      <td>Phoneix</td>\n",
       "    </tr>\n",
       "    <tr>\n",
       "      <th>2</th>\n",
       "      <td>ALASKA</td>\n",
       "      <td>212</td>\n",
       "      <td>20</td>\n",
       "      <td>San Diego</td>\n",
       "    </tr>\n",
       "    <tr>\n",
       "      <th>3</th>\n",
       "      <td>ALASKA</td>\n",
       "      <td>503</td>\n",
       "      <td>102</td>\n",
       "      <td>San Francisco</td>\n",
       "    </tr>\n",
       "    <tr>\n",
       "      <th>4</th>\n",
       "      <td>ALASKA</td>\n",
       "      <td>1841</td>\n",
       "      <td>305</td>\n",
       "      <td>Seattle</td>\n",
       "    </tr>\n",
       "    <tr>\n",
       "      <th>5</th>\n",
       "      <td>AM WEST</td>\n",
       "      <td>694</td>\n",
       "      <td>117</td>\n",
       "      <td>Los Angeles</td>\n",
       "    </tr>\n",
       "    <tr>\n",
       "      <th>6</th>\n",
       "      <td>AM WEST</td>\n",
       "      <td>4840</td>\n",
       "      <td>415</td>\n",
       "      <td>Phoneix</td>\n",
       "    </tr>\n",
       "    <tr>\n",
       "      <th>7</th>\n",
       "      <td>AM WEST</td>\n",
       "      <td>383</td>\n",
       "      <td>65</td>\n",
       "      <td>San Diego</td>\n",
       "    </tr>\n",
       "    <tr>\n",
       "      <th>8</th>\n",
       "      <td>AM WEST</td>\n",
       "      <td>320</td>\n",
       "      <td>129</td>\n",
       "      <td>San Francisco</td>\n",
       "    </tr>\n",
       "    <tr>\n",
       "      <th>9</th>\n",
       "      <td>AM WEST</td>\n",
       "      <td>201</td>\n",
       "      <td>61</td>\n",
       "      <td>Seattle</td>\n",
       "    </tr>\n",
       "  </tbody>\n",
       "</table>\n",
       "</div>"
      ],
      "text/plain": [
       "  Airlines  arr_time  arr_delay           dest\n",
       "0   ALASKA       497         62    Los Angeles\n",
       "1   ALASKA       221         12        Phoneix\n",
       "2   ALASKA       212         20      San Diego\n",
       "3   ALASKA       503        102  San Francisco\n",
       "4   ALASKA      1841        305        Seattle\n",
       "5  AM WEST       694        117    Los Angeles\n",
       "6  AM WEST      4840        415        Phoneix\n",
       "7  AM WEST       383         65      San Diego\n",
       "8  AM WEST       320        129  San Francisco\n",
       "9  AM WEST       201         61        Seattle"
      ]
     },
     "execution_count": 2,
     "metadata": {},
     "output_type": "execute_result"
    }
   ],
   "source": [
    "airlineInfo"
   ]
  },
  {
   "cell_type": "code",
   "execution_count": null,
   "id": "6c03e32c",
   "metadata": {},
   "outputs": [],
   "source": [
    "\n"
   ]
  },
  {
   "cell_type": "code",
   "execution_count": 3,
   "id": "929a20bd",
   "metadata": {},
   "outputs": [
    {
     "name": "stdout",
     "output_type": "stream",
     "text": [
      "0    11.091234\n",
      "1     5.150215\n",
      "2     8.620690\n",
      "3    16.859504\n",
      "4    14.212488\n",
      "dtype: float64\n"
     ]
    }
   ],
   "source": [
    "#calculating the percentage of Alaska filght delay\n",
    "AlaskaFlights = airlineInfo['arr_delay'].head() + airlineInfo['arr_time'].head()\n",
    "AlaskaPercentDelay = (airlineInfo['arr_delay'].head() / AlaskaFlights ) * 100\n",
    "\n",
    "\n",
    "print (AlaskaPercentDelay)"
   ]
  },
  {
   "cell_type": "code",
   "execution_count": 4,
   "id": "a8d07f69",
   "metadata": {},
   "outputs": [
    {
     "name": "stdout",
     "output_type": "stream",
     "text": [
      "5    14.426634\n",
      "6     7.897241\n",
      "7    14.508929\n",
      "8    28.730512\n",
      "9    23.282443\n",
      "dtype: float64\n"
     ]
    }
   ],
   "source": [
    "AMWFlights = airlineInfo['arr_delay'].tail() + airlineInfo['arr_time'].tail()\n",
    "AMWPercentDelay = (airlineInfo['arr_delay'].tail() / AMWFlights ) * 100\n",
    "\n",
    "\n",
    "print (AMWPercentDelay)"
   ]
  },
  {
   "cell_type": "code",
   "execution_count": null,
   "id": "076f0ff8",
   "metadata": {},
   "outputs": [],
   "source": []
  },
  {
   "cell_type": "code",
   "execution_count": null,
   "id": "b53fa1da",
   "metadata": {},
   "outputs": [],
   "source": []
  }
 ],
 "metadata": {
  "kernelspec": {
   "display_name": "Python 3 (ipykernel)",
   "language": "python",
   "name": "python3"
  },
  "language_info": {
   "codemirror_mode": {
    "name": "ipython",
    "version": 3
   },
   "file_extension": ".py",
   "mimetype": "text/x-python",
   "name": "python",
   "nbconvert_exporter": "python",
   "pygments_lexer": "ipython3",
   "version": "3.8.12"
  }
 },
 "nbformat": 4,
 "nbformat_minor": 5
}
